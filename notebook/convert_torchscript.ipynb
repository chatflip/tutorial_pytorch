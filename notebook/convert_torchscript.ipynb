{
 "cells": [
  {
   "cell_type": "markdown",
   "metadata": {},
   "source": [
    "pytorchのmodel(.pth)をtorchscript(.pt)に変換する"
   ]
  },
  {
   "cell_type": "code",
   "execution_count": null,
   "metadata": {},
   "outputs": [],
   "source": [
    "import torch\n",
    "import torchvision"
   ]
  },
  {
   "cell_type": "code",
   "execution_count": null,
   "metadata": {},
   "outputs": [],
   "source": [
    "model = torchvision.models.mobilenet_v2(pretrained=True).eval()\n",
    "rand = torch.rand(1, 3, 244, 244)\n",
    "traced = torch.jit.trace(model, rand)\n",
    "traced.save('weight/mobilenetv2.pt')\n",
    "\n",
    "torch.backends.quantized.engine = 'qnnpack'\n",
    "model = torchvision.models.quantization.mobilenet_v2(pretrained=True, quantize=True).eval()\n",
    "rand = torch.rand(1, 3, 244, 244)\n",
    "traced = torch.jit.trace(model, rand)\n",
    "traced.save('weight/mobilenetv2_quantize.pt')"
   ]
  }
 ],
 "metadata": {
  "kernelspec": {
   "display_name": "pt14",
   "language": "python",
   "name": "pt14"
  },
  "language_info": {
   "codemirror_mode": {
    "name": "ipython",
    "version": 3
   },
   "file_extension": ".py",
   "mimetype": "text/x-python",
   "name": "python",
   "nbconvert_exporter": "python",
   "pygments_lexer": "ipython3",
   "version": "3.6.10"
  }
 },
 "nbformat": 4,
 "nbformat_minor": 4
}
