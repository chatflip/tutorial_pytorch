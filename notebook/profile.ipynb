{
 "cells": [
  {
   "cell_type": "markdown",
   "metadata": {},
   "source": [
    "modelのどこでどのくらい時間かかってるか調べる"
   ]
  },
  {
   "cell_type": "code",
   "execution_count": null,
   "metadata": {},
   "outputs": [],
   "source": [
    "import os\n",
    "\n",
    "import torch\n",
    "import torchvision.models as models\n",
    "\n",
    "if not os.path.exists('profiles'):\n",
    "    os.mkdir('profiles')\n",
    "\n",
    "model = models.mobilenet_v2().eval()\n",
    "x = torch.randn(1, 3, 244, 244)\n",
    "\n",
    "with torch.no_grad():\n",
    "    with torch.autograd.profiler.profile(enabled=True, use_cuda=False) as prof:\n",
    "        model(x)\n",
    "prof.export_chrome_trace('profiles/mobilenetv2_trace_chrome.json')\n",
    "print(prof.key_averages().table(sort_by='self_cpu_time_total'))"
   ]
  },
  {
   "cell_type": "markdown",
   "metadata": {},
   "source": [
    "chromeのブラウザのchrome://tracing/で読み込ませる"
   ]
  }
 ],
 "metadata": {
  "kernelspec": {
   "display_name": "pt14",
   "language": "python",
   "name": "pt14"
  },
  "language_info": {
   "codemirror_mode": {
    "name": "ipython",
    "version": 3
   },
   "file_extension": ".py",
   "mimetype": "text/x-python",
   "name": "python",
   "nbconvert_exporter": "python",
   "pygments_lexer": "ipython3",
   "version": "3.6.10"
  }
 },
 "nbformat": 4,
 "nbformat_minor": 4
}
